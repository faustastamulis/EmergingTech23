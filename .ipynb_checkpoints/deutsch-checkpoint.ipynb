{
 "cells": [
  {
   "cell_type": "markdown",
   "id": "63360288",
   "metadata": {},
   "source": [
    "# Deutsch Algorithm"
   ]
  },
  {
   "cell_type": "markdown",
   "id": "f9435f87",
   "metadata": {},
   "source": [
    "## Introduction:"
   ]
  },
  {
   "cell_type": "markdown",
   "id": "98212122",
   "metadata": {},
   "source": [
    "The Deutsch Algorithm serves as a fundamental cornerstone in the field of quantum computing, where the laws of classical physics give way to the perplexing and illogical world of quantum mechanics. This technique, which David Deutsch proposed in 1985, is a testimony to the revolutionary potential of quantum computers since it shows how much faster it can tackle particular problems than conventional versions.The Deutsch Algorithm stands out as a graceful and important invention amid the complex dance of qubits and the puzzling phenomenon of superposition. It has deepened our understanding of the fundamentals of quantum computing and paved the way for achieving the extraordinary computational power that quantum systems promise. The Deutsch Algorithm's significance in advancing humanity into the quantum age of computation is explored in this investigation as we dig into its core ideas, uses, and ramifications.\n"
   ]
  },
  {
   "cell_type": "markdown",
   "id": "d091f476",
   "metadata": {},
   "source": [
    "## Explanation:"
   ]
  },
  {
   "cell_type": "markdown",
   "id": "a4b6bcf3",
   "metadata": {},
   "source": [
    "One of the early quantum algorithms, the Deutsch Algorithm was created to demonstrate the possible benefits of quantum computing over classical computing in specific situations. This technique, which was put out by David Deutsch in 1985, mainly shows how quantum computers may outperform traditional computers when tackling particular kinds of tasks.\n",
    "\n",
    "Determining the nature of a black-box function that accepts a single bit as input and output centres on the issue the Deutsch Algorithm attempts to solve. The function can be either balanced (which emits different bits for various inputs) or constant (which always outputs the same bit regardless of the input). The goal is to use the fewest number of queries necessary to determine if the function is constant or balanced.\n",
    "\n",
    "The black-box function would need to be queried twice in the traditional method of solving this problem since it must be inspected independently for each potential input. The Deutsch Algorithm, however, completes this operation with only one query, illustrating quantum computing's capacity to give exponential speedup in some circumstances, thanks to quantum concepts like superposition and interference."
   ]
  },
  {
   "cell_type": "markdown",
   "id": "1bcf33c6",
   "metadata": {},
   "source": [
    "### Step by Step Explanation:"
   ]
  },
  {
   "cell_type": "markdown",
   "id": "08653ae2",
   "metadata": {},
   "source": [
    "1. Initialization: Two quantum bits, or qubits, often represented as |0| and |1|, serve as the algorithm's initial input. The first qubit is in state |0, and the second is in state |1, hence these qubits are prepared in state |01].\n",
    "\n",
    "2. Quantum parallelism: Both qubits are concurrently present in a variety of states thanks to quantum superposition. This enables simultaneous evaluation of the black-box function for both input values (0 and 1) by the quantum computer.\n",
    "\n",
    "3. Application of Black-Box Function: A quantum oracle is used to implement the black-box function. The transformation produced by this oracle is based on the behaviour of the function after it applies the function to the input qubits.\n",
    "\n",
    "4. Interference: Following the oracle, the quantum computer enters an interference state in which the probability amplitudes of several states clash with one another. The algorithm's effectiveness is largely due to this interference, a crucial quantum event.\n",
    "\n",
    "5. Measurement: The first qubit is then subjected to a measurement. If the measurement results in the state |0], the function must be constant. When the measurement results in the value |1, the function is said to be balanced."
   ]
  },
  {
   "cell_type": "markdown",
   "id": "e1e82ac1",
   "metadata": {},
   "source": [
    "The key finding is that the characteristics of the black-box function have an impact on the probability of measuring |0| and |1| owing to quantum interference. Interference guarantees that the probabilities are either both 0 or both 1, resulting in a measurement of |0 if the function is constant. Interference guarantees that the probabilities are distinct if the function is balanced, resulting in a measurement of |1.\n"
   ]
  },
  {
   "cell_type": "markdown",
   "id": "135dab89",
   "metadata": {},
   "source": [
    "### How to solve the problem on a classical computer:"
   ]
  },
  {
   "cell_type": "code",
   "execution_count": 1,
   "id": "9ffa6438",
   "metadata": {},
   "outputs": [
    {
     "name": "stdout",
     "output_type": "stream",
     "text": [
      "The black-box function is balanced.\n"
     ]
    }
   ],
   "source": [
    "# Define the black-box function\n",
    "def black_box_function(x):\n",
    "    # This is a balanced function example\n",
    "    return 1 - x\n",
    "\n",
    "# Query the black-box function for inputs 0 and 1\n",
    "output_0 = black_box_function(0)\n",
    "output_1 = black_box_function(1)\n",
    "\n",
    "# Check for consistency\n",
    "if output_0 == output_1:\n",
    "    print(\"The black-box function is constant.\")\n",
    "else:\n",
    "    print(\"The black-box function is balanced.\")"
   ]
  },
  {
   "cell_type": "markdown",
   "id": "7411bc8e",
   "metadata": {},
   "source": [
    "The black_box_function, which accepts the values x (0 or 1), is defined in this code and determines whether a constant or balanced function will be the result. I've assumed a balanced function in which the output is the complement of the input for the sake of this example.\n",
    "\n",
    "The function is then queried for both inputs, 0 and 1, and the outputs are stored. We then compare the results. The function is constant if the outputs are the same; the function is balanced if the outputs are different.\n",
    "\n",
    "You may change the specification of the black_box_function to test the method with other function types (constant or balanced) and see how the classical solution establishes the function's nature by evaluating it for each input independently."
   ]
  },
  {
   "cell_type": "markdown",
   "id": "caea9e59",
   "metadata": {},
   "source": [
    "### Solution for the deutsch algorithm using Qiskit:"
   ]
  },
  {
   "cell_type": "code",
   "execution_count": 1,
   "id": "9948441c",
   "metadata": {},
   "outputs": [
    {
     "name": "stdout",
     "output_type": "stream",
     "text": [
      "{'00': 1}\n"
     ]
    }
   ],
   "source": [
    "from qiskit import QuantumCircuit, BasicAer, execute\n",
    "\n",
    "# Create a quantum circuit with two qubits and two classical bits\n",
    "qc = QuantumCircuit(2, 2)\n",
    "\n",
    "# Apply Hadamard gate to the first qubit\n",
    "qc.h(0)\n",
    "\n",
    "# Apply Hadamard gate to the second qubit\n",
    "qc.h(1)\n",
    "\n",
    "# Apply the oracle for a balanced function (CNOT gate)\n",
    "qc.cx(0, 1)\n",
    "\n",
    "# Apply Hadamard gate to the first qubit again\n",
    "qc.h(0)\n",
    "\n",
    "# Measure both qubits\n",
    "qc.measure([0, 1], [0, 1])\n",
    "\n",
    "# Simulate the quantum circuit\n",
    "simulator = BasicAer.get_backend('qasm_simulator')\n",
    "result = execute(qc, simulator, shots=1).result()\n",
    "\n",
    "# Print the measurement result\n",
    "counts = result.get_counts()\n",
    "print(counts)\n"
   ]
  },
  {
   "cell_type": "markdown",
   "id": "a45f9a48",
   "metadata": {},
   "source": [
    "We first construct a quantum circuit in this simulation that consists of two qubits and two classical bits. To create a superposition of states for both qubits, we use Hadamard gates. Using the CNOT gate, where the control qubit is the first qubit and the target qubit is the second qubit, we then apply the balanced oracle.\n",
    "\n",
    "We apply a Hadamard gate to the first qubit once more after applying the oracle to get it ready for measurement. The measurement data are printed once we have measured both qubits.\n",
    "\n",
    "Keep in mind that in this case, the oracle is a CNOT gate, and we are mimicking a balanced function. An identity gate would be the oracle if the function were constant. With a roughly equal chance of detecting both 0 and 1 on the classical bits, the simulation should result in measurement results that represent the function's balanced nature.\n",
    "\n",
    "Remember that this simulation illustrates the fundamentals of the Deutsch issue and the approach to its solution based on quantum gates. Physical constraints and noise would impair the execution in a genuine quantum computer, necessitating the employment of error-correction methods for more challenging issues.\n"
   ]
  }
 ],
 "metadata": {
  "kernelspec": {
   "display_name": "Python 3 (ipykernel)",
   "language": "python",
   "name": "python3"
  },
  "language_info": {
   "codemirror_mode": {
    "name": "ipython",
    "version": 3
   },
   "file_extension": ".py",
   "mimetype": "text/x-python",
   "name": "python",
   "nbconvert_exporter": "python",
   "pygments_lexer": "ipython3",
   "version": "3.10.10"
  }
 },
 "nbformat": 4,
 "nbformat_minor": 5
}
